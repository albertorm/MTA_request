{
  "nbformat": 4,
  "nbformat_minor": 0,
  "metadata": {
    "colab": {
      "name": "crawler.ipynb",
      "version": "0.3.2",
      "provenance": []
    },
    "language_info": {
      "codemirror_mode": {
        "name": "ipython",
        "version": 3
      },
      "file_extension": ".py",
      "mimetype": "text/x-python",
      "name": "python",
      "nbconvert_exporter": "python",
      "pygments_lexer": "ipython3",
      "version": "3.6.8"
    },
    "kernelspec": {
      "display_name": "Python 3",
      "language": "python",
      "name": "python3"
    }
  },
  "cells": [
    {
      "metadata": {
        "id": "Op-tTyKO1_1S",
        "colab_type": "text"
      },
      "cell_type": "markdown",
      "source": [
        "# Request to mta ny API json format"
      ]
    },
    {
      "metadata": {
        "id": "TFb4DIzY1_1Y",
        "colab_type": "text"
      },
      "cell_type": "markdown",
      "source": [
        "## Import the libraries"
      ]
    },
    {
      "metadata": {
        "id": "BL8topNK1_1b",
        "colab_type": "code",
        "colab": {}
      },
      "cell_type": "code",
      "source": [
        "import time\n",
        "import json\n",
        "import urllib\n",
        "import requests\n",
        "import MTBUS_collect\n",
        "import datetime as dt"
      ],
      "execution_count": 0,
      "outputs": []
    },
    {
      "metadata": {
        "id": "XoVCslth1_1m",
        "colab_type": "code",
        "colab": {}
      },
      "cell_type": "code",
      "source": [
        "while True:\n",
        "    print(\"Times:%i\"%i)\n",
        "    date_n = dt.datetime.now().time()\n",
        "# Compare the server time with NY time to set working hours\n",
        "    if date_n.hour>=HH or date_n.hour<HH:\n",
        "        r = requests.get('http://bustime.mta.info/api/siri/vehicle-monitoring.json?key=YOUR_KEY')\n",
        "# Wait to complete response\t\t\n",
        "        time.sleep(50)\n",
        "# Save to file\t\t\n",
        "        f = open(\"MTA.txt\",\"a+\")\n",
        "        f.write(str(r.content))\n",
        "        f.write(\"\\n\")\n",
        "        f.close()\n",
        "    time.sleep(99) #\n"
      ],
      "execution_count": 0,
      "outputs": []
    }
  ]
}